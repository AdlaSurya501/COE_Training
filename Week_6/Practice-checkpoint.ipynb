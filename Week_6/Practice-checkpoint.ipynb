{
 "cells": [
  {
   "cell_type": "code",
   "execution_count": 4,
   "id": "582c9d97",
   "metadata": {},
   "outputs": [],
   "source": [
    "import pandas as pd\n",
    "from sklearn. utils import resample\n",
    "1\n",
    "# Sample dataset\n",
    "df = pd.DataFrame({\n",
    "    'Age' : [22,25,27,28,30,35,40,45,50,55,60,65,70],\n",
    "    'Income' : [2000,2500,2700,3200,3500,3800,4000,4200,4300,45000,5000,5500,6000],\n",
    "    'Class' : ['High','Low','Low','High','High','Low','High','High','Low','Low','High','High','Low']\n",
    "})"
   ]
  },
  {
   "cell_type": "code",
   "execution_count": 5,
   "id": "a612ea34",
   "metadata": {},
   "outputs": [],
   "source": [
    "# Separate majority and minority classes\n",
    "df_high = df[df['Class'] == 'High']\n",
    "df_low = df[df['Class'] == 'Low']"
   ]
  },
  {
   "cell_type": "code",
   "execution_count": 7,
   "id": "0e94b1a4",
   "metadata": {},
   "outputs": [],
   "source": [
    "#Downsample majority class\n",
    "df_high_downsampled = resample(df_high, replace =False, n_samples=len(df_low), random_state=42)"
   ]
  },
  {
   "cell_type": "code",
   "execution_count": 9,
   "id": "08aa320e",
   "metadata": {},
   "outputs": [],
   "source": [
    "#Combine downsampled majority with minority class\n",
    "df_balanced = pd.concat([df_high_downsampled, df_low])"
   ]
  },
  {
   "cell_type": "code",
   "execution_count": 10,
   "id": "2541acb5",
   "metadata": {},
   "outputs": [
    {
     "name": "stdout",
     "output_type": "stream",
     "text": [
      "Class\n",
      "High    6\n",
      "Low     6\n",
      "Name: count, dtype: int64\n"
     ]
    }
   ],
   "source": [
    "print(df_balanced['Class'].value_counts())"
   ]
  },
  {
   "cell_type": "markdown",
   "id": "a9680ac8",
   "metadata": {},
   "source": [
    "# Upsampling the Minority Class\n",
    "Let's use a dataset with a binary classification task where the Minority class has fewer instances than the Majority class, and we'll perform upsampling on the minority class"
   ]
  },
  {
   "cell_type": "code",
   "execution_count": 12,
   "id": "095c4774",
   "metadata": {},
   "outputs": [],
   "source": [
    "import pandas as pd\n",
    "from sklearn.utils import resample\n",
    "\n",
    "#Sample dataset \n",
    "df = pd.DataFrame({\n",
    "    'Age': [22,25,27,28,30,35,40,45,50,55,60,65,70],\n",
    "    'Income': [2000,2500,2700,3200,3500,3800,4000,4200,4300,4500,5000,5500,6000],\n",
    "    'Class': ['Minority','Majority','Majority','Majority','Majority','Minority','Minority','Minority','Majority','Majority','Majority','Majority','Majority']\n",
    "})"
   ]
  },
  {
   "cell_type": "markdown",
   "id": "bebeb712",
   "metadata": {},
   "source": [
    "Majority class has 9 instances\n",
    "\n",
    "Minority class has 4 instances"
   ]
  },
  {
   "cell_type": "code",
   "execution_count": 13,
   "id": "af2279ab",
   "metadata": {},
   "outputs": [],
   "source": [
    "#Seperate Majority and Minority classses\n",
    "df_majority = df[df['Class'] == 'Majority']\n",
    "df_minority = df[df['Class'] == 'Minority']"
   ]
  },
  {
   "cell_type": "code",
   "execution_count": 14,
   "id": "d7171cc7",
   "metadata": {},
   "outputs": [],
   "source": [
    "#Upsample minority class\n",
    "df_minority_upsampled = resample(df_minority, replace=True, n_samples=len(df_majority), random_state=42)"
   ]
  },
  {
   "cell_type": "code",
   "execution_count": 15,
   "id": "47f2a10e",
   "metadata": {},
   "outputs": [],
   "source": [
    "#Combined upsampled minority with majority class\n",
    "df_balanced = pd.concat([df_minority_upsampled])"
   ]
  },
  {
   "cell_type": "code",
   "execution_count": 16,
   "id": "ff4d5fca",
   "metadata": {},
   "outputs": [
    {
     "name": "stdout",
     "output_type": "stream",
     "text": [
      "Class\n",
      "Minority    9\n",
      "Name: count, dtype: int64\n"
     ]
    }
   ],
   "source": [
    "print(df_balanced['Class'].value_counts())"
   ]
  },
  {
   "cell_type": "code",
   "execution_count": 23,
   "id": "89645323",
   "metadata": {},
   "outputs": [
    {
     "name": "stdout",
     "output_type": "stream",
     "text": [
      "Requirement already satisfied: imbalanced.learn in c:\\users\\cvr\\anaconda3\\lib\\site-packages (0.13.0)\n",
      "Requirement already satisfied: numpy<3,>=1.24.3 in c:\\users\\cvr\\anaconda3\\lib\\site-packages (from imbalanced.learn) (1.24.3)\n",
      "Requirement already satisfied: scipy<2,>=1.10.1 in c:\\users\\cvr\\anaconda3\\lib\\site-packages (from imbalanced.learn) (1.11.1)\n",
      "Requirement already satisfied: scikit-learn<2,>=1.3.2 in c:\\users\\cvr\\anaconda3\\lib\\site-packages (from imbalanced.learn) (1.6.1)\n",
      "Requirement already satisfied: sklearn-compat<1,>=0.1 in c:\\users\\cvr\\anaconda3\\lib\\site-packages (from imbalanced.learn) (0.1.3)\n",
      "Requirement already satisfied: joblib<2,>=1.1.1 in c:\\users\\cvr\\anaconda3\\lib\\site-packages (from imbalanced.learn) (1.2.0)\n",
      "Requirement already satisfied: threadpoolctl<4,>=2.0.0 in c:\\users\\cvr\\anaconda3\\lib\\site-packages (from imbalanced.learn) (3.5.0)\n",
      "Note: you may need to restart the kernel to use updated packages.\n"
     ]
    }
   ],
   "source": [
    "pip install imbalanced.learn"
   ]
  },
  {
   "cell_type": "code",
   "execution_count": null,
   "id": "d59edb22",
   "metadata": {},
   "outputs": [],
   "source": [
    "# import pandas as pd\n",
    "# from imblearn.over_sampling import SMOTE\n",
    "\n",
    "# # #Sample dataset\n",
    "# # df = pd.DataFrame({\n",
    "# #     'Age': [22,25,27,28,30,35,40,]\n",
    "# # })"
   ]
  },
  {
   "cell_type": "code",
   "execution_count": null,
   "id": "0a4df60f",
   "metadata": {},
   "outputs": [],
   "source": [
    "pip uninstall scikit-learn imbalanced-learn -y"
   ]
  },
  {
   "cell_type": "code",
   "execution_count": null,
   "id": "0de435bc",
   "metadata": {},
   "outputs": [],
   "source": [
    "pip install -U scikit-learn imbalanced-learn"
   ]
  },
  {
   "cell_type": "code",
   "execution_count": null,
   "id": "855fa001",
   "metadata": {},
   "outputs": [],
   "source": []
  }
 ],
 "metadata": {
  "kernelspec": {
   "display_name": "Python 3 (ipykernel)",
   "language": "python",
   "name": "python3"
  },
  "language_info": {
   "codemirror_mode": {
    "name": "ipython",
    "version": 3
   },
   "file_extension": ".py",
   "mimetype": "text/x-python",
   "name": "python",
   "nbconvert_exporter": "python",
   "pygments_lexer": "ipython3",
   "version": "3.11.5"
  }
 },
 "nbformat": 4,
 "nbformat_minor": 5
}
